{
 "cells": [
  {
   "cell_type": "code",
   "execution_count": 1,
   "metadata": {},
   "outputs": [
    {
     "data": {
      "text/html": [
       "<div>\n",
       "<style scoped>\n",
       "    .dataframe tbody tr th:only-of-type {\n",
       "        vertical-align: middle;\n",
       "    }\n",
       "\n",
       "    .dataframe tbody tr th {\n",
       "        vertical-align: top;\n",
       "    }\n",
       "\n",
       "    .dataframe thead th {\n",
       "        text-align: right;\n",
       "    }\n",
       "</style>\n",
       "<table border=\"1\" class=\"dataframe\">\n",
       "  <thead>\n",
       "    <tr style=\"text-align: right;\">\n",
       "      <th></th>\n",
       "      <th>SepalLengthCm</th>\n",
       "      <th>SepalWidthCm</th>\n",
       "      <th>PetalLengthCm</th>\n",
       "      <th>PetalWidthCm</th>\n",
       "    </tr>\n",
       "  </thead>\n",
       "  <tbody>\n",
       "    <tr>\n",
       "      <th>0</th>\n",
       "      <td>0.222222</td>\n",
       "      <td>0.625000</td>\n",
       "      <td>0.067797</td>\n",
       "      <td>0.041667</td>\n",
       "    </tr>\n",
       "    <tr>\n",
       "      <th>1</th>\n",
       "      <td>0.166667</td>\n",
       "      <td>0.416667</td>\n",
       "      <td>0.067797</td>\n",
       "      <td>0.041667</td>\n",
       "    </tr>\n",
       "    <tr>\n",
       "      <th>2</th>\n",
       "      <td>0.111111</td>\n",
       "      <td>0.500000</td>\n",
       "      <td>0.050847</td>\n",
       "      <td>0.041667</td>\n",
       "    </tr>\n",
       "    <tr>\n",
       "      <th>3</th>\n",
       "      <td>0.083333</td>\n",
       "      <td>0.458333</td>\n",
       "      <td>0.084746</td>\n",
       "      <td>0.041667</td>\n",
       "    </tr>\n",
       "    <tr>\n",
       "      <th>4</th>\n",
       "      <td>0.194444</td>\n",
       "      <td>0.666667</td>\n",
       "      <td>0.067797</td>\n",
       "      <td>0.041667</td>\n",
       "    </tr>\n",
       "  </tbody>\n",
       "</table>\n",
       "</div>"
      ],
      "text/plain": [
       "   SepalLengthCm  SepalWidthCm  PetalLengthCm  PetalWidthCm\n",
       "0       0.222222      0.625000       0.067797      0.041667\n",
       "1       0.166667      0.416667       0.067797      0.041667\n",
       "2       0.111111      0.500000       0.050847      0.041667\n",
       "3       0.083333      0.458333       0.084746      0.041667\n",
       "4       0.194444      0.666667       0.067797      0.041667"
      ]
     },
     "execution_count": 1,
     "metadata": {},
     "output_type": "execute_result"
    }
   ],
   "source": [
    "import pandas as pd\n",
    "import numpy as np\n",
    "import matplotlib.pyplot as plt\n",
    "import math\n",
    "datas = pd.read_csv('iris.csv');\n",
    "data = datas[[\"SepalLengthCm\",\"SepalWidthCm\",\"PetalLengthCm\",\"PetalWidthCm\"]];\n",
    "data = (data-data.min())/(data.max()-data.min())\n",
    "#data = data.sample(frac=1)\n",
    "data.head()"
   ]
  },
  {
   "cell_type": "code",
   "execution_count": 2,
   "metadata": {},
   "outputs": [],
   "source": [
    "iterasi = 100\n",
    "lr = 0.5\n",
    "lrbaru = lr\n",
    "redlr = 20;\n",
    "neighbour = 0.3;\n",
    "neighbourbaru = neighbour\n",
    "redneighbour = 63;\n",
    "kelas = 3;\n",
    "w =np.random.rand(data.shape[1],kelas)"
   ]
  },
  {
   "cell_type": "code",
   "execution_count": 3,
   "metadata": {},
   "outputs": [],
   "source": [
    "for iters in range(1,iterasi):\n",
    "    for i in range(0,data.shape[0]):\n",
    "        a = np.array(data.iloc[i]);\n",
    "        result =[];\n",
    "        for b in range(0,kelas):\n",
    "            hasil = np.sqrt(np.sum(np.square(a-w[:,b])))\n",
    "            result.append(hasil);\n",
    "        index = result.index(min(result));\n",
    "        for j in range(0,kelas):\n",
    "            radius = np.sum(np.square(w[:,index]-w[:,j]))\n",
    "            topologi = math.exp(-radius/(2*(neighbourbaru**2)));\n",
    "            deltaw = lrbaru*topologi*(a-w[:,j]);\n",
    "            w[:,j] = w[:,j]+deltaw;\n",
    "    lrbaru = lr*math.exp(-iters/redlr);\n",
    "    neighbourbaru = neighbour*math.exp(-iters/redneighbour);\n",
    "    if(lrbaru<0.002):\n",
    "        break"
   ]
  },
  {
   "cell_type": "code",
   "execution_count": 4,
   "metadata": {},
   "outputs": [],
   "source": [
    "lists=[]\n",
    "for i in range(0,data.shape[0]):\n",
    "    a = np.array(data.iloc[i]);\n",
    "    result =[];\n",
    "    for b in range(0,kelas):\n",
    "        hasil = np.sqrt(np.sum(np.square(a-w[:,b])))\n",
    "        result.append(hasil);\n",
    "    lists.append(result.index(min(result)));"
   ]
  },
  {
   "cell_type": "code",
   "execution_count": 5,
   "metadata": {},
   "outputs": [],
   "source": [
    "kelas=np.array(lists)"
   ]
  },
  {
   "cell_type": "code",
   "execution_count": 6,
   "metadata": {},
   "outputs": [
    {
     "data": {
      "text/plain": [
       "[<matplotlib.lines.Line2D at 0x2a3a27e5940>,\n",
       " <matplotlib.lines.Line2D at 0x2a3a27e5970>,\n",
       " <matplotlib.lines.Line2D at 0x2a3a27e59d0>]"
      ]
     },
     "execution_count": 6,
     "metadata": {},
     "output_type": "execute_result"
    },
    {
     "data": {
      "image/png": "[encoded data removed]",
      "text/plain": [
       "<Figure size 432x288 with 1 Axes>"
      ]
     },
     "metadata": {
      "needs_background": "light"
     },
     "output_type": "display_data"
    }
   ],
   "source": [
    "plt.plot(data.iloc[np.where(kelas==0)]['SepalLengthCm'],data.iloc[np.where(kelas==0)]['SepalWidthCm'],'bo',data.iloc[np.where(kelas==1)]['SepalLengthCm'],data.iloc[np.where(kelas==1)]['SepalWidthCm'],'ro',data.iloc[np.where(kelas==2)]['SepalLengthCm'],data.iloc[np.where(kelas==2)]['SepalWidthCm'],'go')"
   ]
  },
  {
   "cell_type": "code",
   "execution_count": null,
   "metadata": {},
   "outputs": [],
   "source": []
  }
 ],
 "metadata": {
  "kernelspec": {
   "display_name": "Python 3",
   "language": "python",
   "name": "python3"
  },
  "language_info": {
   "codemirror_mode": {
    "name": "ipython",
    "version": 3
   },
   "file_extension": ".py",
   "mimetype": "text/x-python",
   "name": "python",
   "nbconvert_exporter": "python",
   "pygments_lexer": "ipython3",
   "version": "3.8.5"
  }
 },
 "nbformat": 4,
 "nbformat_minor": 4
}
