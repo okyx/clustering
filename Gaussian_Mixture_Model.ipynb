{
  "nbformat": 4,
  "nbformat_minor": 0,
  "metadata": {
    "colab": {
      "name": "Gaussian Mixture Model.ipynb",
      "provenance": [],
      "collapsed_sections": []
    },
    "kernelspec": {
      "name": "python3",
      "display_name": "Python 3"
    },
    "language_info": {
      "name": "python"
    }
  },
  "cells": [
    {
      "cell_type": "code",
      "execution_count": null,
      "metadata": {
        "id": "5sKzry7uGIGl"
      },
      "outputs": [],
      "source": [
        ""
      ]
    },
    {
      "cell_type": "code",
      "source": [
        "import numpy as np\n",
        "import pandas as pd\n",
        "import math\n",
        "np.seterr(divide='ignore', invalid='ignore')"
      ],
      "metadata": {
        "colab": {
          "base_uri": "https://localhost:8080/"
        },
        "id": "_zqdjh00PQ6T",
        "outputId": "5c41481c-7ce0-4ed8-8a9c-29c1b111af4e"
      },
      "execution_count": 1,
      "outputs": [
        {
          "output_type": "execute_result",
          "data": {
            "text/plain": [
              "{'divide': 'warn', 'invalid': 'warn', 'over': 'warn', 'under': 'ignore'}"
            ]
          },
          "metadata": {},
          "execution_count": 1
        }
      ]
    },
    {
      "cell_type": "code",
      "source": [
        "data = pd.read_csv('https://raw.githubusercontent.com/okyx/clustering/master/Iris.csv')"
      ],
      "metadata": {
        "id": "l2F0YWF1PWhC"
      },
      "execution_count": 2,
      "outputs": []
    },
    {
      "cell_type": "code",
      "source": [
        "data.head()"
      ],
      "metadata": {
        "colab": {
          "base_uri": "https://localhost:8080/",
          "height": 206
        },
        "id": "y-ny_0wbP8_i",
        "outputId": "44400da1-782d-4bf3-8510-23336edd2fae"
      },
      "execution_count": 3,
      "outputs": [
        {
          "output_type": "execute_result",
          "data": {
            "text/plain": [
              "   Id  SepalLengthCm  SepalWidthCm  PetalLengthCm  PetalWidthCm      Species\n",
              "0   1            5.1           3.5            1.4           0.2  Iris-setosa\n",
              "1   2            4.9           3.0            1.4           0.2  Iris-setosa\n",
              "2   3            4.7           3.2            1.3           0.2  Iris-setosa\n",
              "3   4            4.6           3.1            1.5           0.2  Iris-setosa\n",
              "4   5            5.0           3.6            1.4           0.2  Iris-setosa"
            ],
            "text/html": [
              "\n",
              "  <div id=\"df-20a01497-88ea-45b5-9b10-5b2c810c3820\">\n",
              "    <div class=\"colab-df-container\">\n",
              "      <div>\n",
              "<style scoped>\n",
              "    .dataframe tbody tr th:only-of-type {\n",
              "        vertical-align: middle;\n",
              "    }\n",
              "\n",
              "    .dataframe tbody tr th {\n",
              "        vertical-align: top;\n",
              "    }\n",
              "\n",
              "    .dataframe thead th {\n",
              "        text-align: right;\n",
              "    }\n",
              "</style>\n",
              "<table border=\"1\" class=\"dataframe\">\n",
              "  <thead>\n",
              "    <tr style=\"text-align: right;\">\n",
              "      <th></th>\n",
              "      <th>Id</th>\n",
              "      <th>SepalLengthCm</th>\n",
              "      <th>SepalWidthCm</th>\n",
              "      <th>PetalLengthCm</th>\n",
              "      <th>PetalWidthCm</th>\n",
              "      <th>Species</th>\n",
              "    </tr>\n",
              "  </thead>\n",
              "  <tbody>\n",
              "    <tr>\n",
              "      <th>0</th>\n",
              "      <td>1</td>\n",
              "      <td>5.1</td>\n",
              "      <td>3.5</td>\n",
              "      <td>1.4</td>\n",
              "      <td>0.2</td>\n",
              "      <td>Iris-setosa</td>\n",
              "    </tr>\n",
              "    <tr>\n",
              "      <th>1</th>\n",
              "      <td>2</td>\n",
              "      <td>4.9</td>\n",
              "      <td>3.0</td>\n",
              "      <td>1.4</td>\n",
              "      <td>0.2</td>\n",
              "      <td>Iris-setosa</td>\n",
              "    </tr>\n",
              "    <tr>\n",
              "      <th>2</th>\n",
              "      <td>3</td>\n",
              "      <td>4.7</td>\n",
              "      <td>3.2</td>\n",
              "      <td>1.3</td>\n",
              "      <td>0.2</td>\n",
              "      <td>Iris-setosa</td>\n",
              "    </tr>\n",
              "    <tr>\n",
              "      <th>3</th>\n",
              "      <td>4</td>\n",
              "      <td>4.6</td>\n",
              "      <td>3.1</td>\n",
              "      <td>1.5</td>\n",
              "      <td>0.2</td>\n",
              "      <td>Iris-setosa</td>\n",
              "    </tr>\n",
              "    <tr>\n",
              "      <th>4</th>\n",
              "      <td>5</td>\n",
              "      <td>5.0</td>\n",
              "      <td>3.6</td>\n",
              "      <td>1.4</td>\n",
              "      <td>0.2</td>\n",
              "      <td>Iris-setosa</td>\n",
              "    </tr>\n",
              "  </tbody>\n",
              "</table>\n",
              "</div>\n",
              "      <button class=\"colab-df-convert\" onclick=\"convertToInteractive('df-20a01497-88ea-45b5-9b10-5b2c810c3820')\"\n",
              "              title=\"Convert this dataframe to an interactive table.\"\n",
              "              style=\"display:none;\">\n",
              "        \n",
              "  <svg xmlns=\"http://www.w3.org/2000/svg\" height=\"24px\"viewBox=\"0 0 24 24\"\n",
              "       width=\"24px\">\n",
              "    <path d=\"M0 0h24v24H0V0z\" fill=\"none\"/>\n",
              "    <path d=\"M18.56 5.44l.94 2.06.94-2.06 2.06-.94-2.06-.94-.94-2.06-.94 2.06-2.06.94zm-11 1L8.5 8.5l.94-2.06 2.06-.94-2.06-.94L8.5 2.5l-.94 2.06-2.06.94zm10 10l.94 2.06.94-2.06 2.06-.94-2.06-.94-.94-2.06-.94 2.06-2.06.94z\"/><path d=\"M17.41 7.96l-1.37-1.37c-.4-.4-.92-.59-1.43-.59-.52 0-1.04.2-1.43.59L10.3 9.45l-7.72 7.72c-.78.78-.78 2.05 0 2.83L4 21.41c.39.39.9.59 1.41.59.51 0 1.02-.2 1.41-.59l7.78-7.78 2.81-2.81c.8-.78.8-2.07 0-2.86zM5.41 20L4 18.59l7.72-7.72 1.47 1.35L5.41 20z\"/>\n",
              "  </svg>\n",
              "      </button>\n",
              "      \n",
              "  <style>\n",
              "    .colab-df-container {\n",
              "      display:flex;\n",
              "      flex-wrap:wrap;\n",
              "      gap: 12px;\n",
              "    }\n",
              "\n",
              "    .colab-df-convert {\n",
              "      background-color: #E8F0FE;\n",
              "      border: none;\n",
              "      border-radius: 50%;\n",
              "      cursor: pointer;\n",
              "      display: none;\n",
              "      fill: #1967D2;\n",
              "      height: 32px;\n",
              "      padding: 0 0 0 0;\n",
              "      width: 32px;\n",
              "    }\n",
              "\n",
              "    .colab-df-convert:hover {\n",
              "      background-color: #E2EBFA;\n",
              "      box-shadow: 0px 1px 2px rgba(60, 64, 67, 0.3), 0px 1px 3px 1px rgba(60, 64, 67, 0.15);\n",
              "      fill: #174EA6;\n",
              "    }\n",
              "\n",
              "    [theme=dark] .colab-df-convert {\n",
              "      background-color: #3B4455;\n",
              "      fill: #D2E3FC;\n",
              "    }\n",
              "\n",
              "    [theme=dark] .colab-df-convert:hover {\n",
              "      background-color: #434B5C;\n",
              "      box-shadow: 0px 1px 3px 1px rgba(0, 0, 0, 0.15);\n",
              "      filter: drop-shadow(0px 1px 2px rgba(0, 0, 0, 0.3));\n",
              "      fill: #FFFFFF;\n",
              "    }\n",
              "  </style>\n",
              "\n",
              "      <script>\n",
              "        const buttonEl =\n",
              "          document.querySelector('#df-20a01497-88ea-45b5-9b10-5b2c810c3820 button.colab-df-convert');\n",
              "        buttonEl.style.display =\n",
              "          google.colab.kernel.accessAllowed ? 'block' : 'none';\n",
              "\n",
              "        async function convertToInteractive(key) {\n",
              "          const element = document.querySelector('#df-20a01497-88ea-45b5-9b10-5b2c810c3820');\n",
              "          const dataTable =\n",
              "            await google.colab.kernel.invokeFunction('convertToInteractive',\n",
              "                                                     [key], {});\n",
              "          if (!dataTable) return;\n",
              "\n",
              "          const docLinkHtml = 'Like what you see? Visit the ' +\n",
              "            '<a target=\"_blank\" href=https://colab.research.google.com/notebooks/data_table.ipynb>data table notebook</a>'\n",
              "            + ' to learn more about interactive tables.';\n",
              "          element.innerHTML = '';\n",
              "          dataTable['output_type'] = 'display_data';\n",
              "          await google.colab.output.renderOutput(dataTable, element);\n",
              "          const docLink = document.createElement('div');\n",
              "          docLink.innerHTML = docLinkHtml;\n",
              "          element.appendChild(docLink);\n",
              "        }\n",
              "      </script>\n",
              "    </div>\n",
              "  </div>\n",
              "  "
            ]
          },
          "metadata": {},
          "execution_count": 3
        }
      ]
    },
    {
      "cell_type": "code",
      "source": [
        "data.columns[1:6]"
      ],
      "metadata": {
        "colab": {
          "base_uri": "https://localhost:8080/"
        },
        "id": "WtftvZK3QCPR",
        "outputId": "337819c6-592b-43d5-d9ce-8fd9dd1c92e6"
      },
      "execution_count": 4,
      "outputs": [
        {
          "output_type": "execute_result",
          "data": {
            "text/plain": [
              "Index(['SepalLengthCm', 'SepalWidthCm', 'PetalLengthCm', 'PetalWidthCm',\n",
              "       'Species'],\n",
              "      dtype='object')"
            ]
          },
          "metadata": {},
          "execution_count": 4
        }
      ]
    },
    {
      "cell_type": "code",
      "source": [
        "arrayData = data[data.columns[1:5]].values"
      ],
      "metadata": {
        "id": "vGjHP9RAP30o"
      },
      "execution_count": 5,
      "outputs": []
    },
    {
      "cell_type": "code",
      "source": [
        "kelas = 3\n",
        "pi = np.ones(kelas)/kelas"
      ],
      "metadata": {
        "id": "FHM76CmHQNZG"
      },
      "execution_count": 6,
      "outputs": []
    },
    {
      "cell_type": "code",
      "source": [
        "miu = np.zeros((arrayData.shape[1],kelas))\n",
        "for i in range(kelas):\n",
        "  for j in range(arrayData.shape[1]):\n",
        "    miu[j,i] = np.random.randint(round(arrayData[j,i].min()),round(arrayData[j,i].max())+1)"
      ],
      "metadata": {
        "id": "S0VQXJ_6QSAK"
      },
      "execution_count": 7,
      "outputs": []
    },
    {
      "cell_type": "code",
      "source": [
        "var = np.zeros((3,4,4))\n",
        "for i in range(kelas):\n",
        "  A = np.zeros((4,4),int)\n",
        "  np.fill_diagonal(A,5)\n",
        "  var[i,:,:] = A"
      ],
      "metadata": {
        "id": "STeQ007ymQc7"
      },
      "execution_count": 8,
      "outputs": []
    },
    {
      "cell_type": "code",
      "source": [
        "def multivariates_normal(x, d, mean, covariance):\n",
        "  x_m = x - mean\n",
        "  detCov = np.linalg.det(covariance)\n",
        "  conInverse = np.linalg.inv(covariance)\n",
        "  left = (1. / (np.sqrt((2*np.pi)**d*detCov)))\n",
        "  right = np.exp(np.float128(-0.5 * np.dot(np.dot(x_m.T,conInverse),x_m)))\n",
        "  return (left*right).diagonal()\n"
      ],
      "metadata": {
        "id": "JJ-jN1tnURZ1"
      },
      "execution_count": 9,
      "outputs": []
    },
    {
      "cell_type": "code",
      "source": [
        "epoch= 1000\n",
        "ric = np.zeros((arrayData.shape[0],kelas))\n",
        "a = np.zeros((miu.shape))"
      ],
      "metadata": {
        "id": "KrNisWJvrwI3"
      },
      "execution_count": 10,
      "outputs": []
    },
    {
      "cell_type": "code",
      "source": [
        "pi"
      ],
      "metadata": {
        "colab": {
          "base_uri": "https://localhost:8080/"
        },
        "id": "K_FqUrsdRDJL",
        "outputId": "120256a7-3cfc-432a-9c64-adda484f1c09"
      },
      "execution_count": 11,
      "outputs": [
        {
          "output_type": "execute_result",
          "data": {
            "text/plain": [
              "array([0.33333333, 0.33333333, 0.33333333])"
            ]
          },
          "metadata": {},
          "execution_count": 11
        }
      ]
    },
    {
      "cell_type": "code",
      "source": [
        "miu"
      ],
      "metadata": {
        "colab": {
          "base_uri": "https://localhost:8080/"
        },
        "id": "fXLkteffRDi6",
        "outputId": "ce818eb9-7a74-4a33-ba60-8ca2677d6f27"
      },
      "execution_count": 12,
      "outputs": [
        {
          "output_type": "execute_result",
          "data": {
            "text/plain": [
              "array([[5., 4., 1.],\n",
              "       [5., 3., 1.],\n",
              "       [5., 3., 1.],\n",
              "       [5., 3., 2.]])"
            ]
          },
          "metadata": {},
          "execution_count": 12
        }
      ]
    },
    {
      "cell_type": "code",
      "source": [
        "var"
      ],
      "metadata": {
        "colab": {
          "base_uri": "https://localhost:8080/"
        },
        "id": "vfhWrFgoRD6F",
        "outputId": "36486198-2d86-401b-80ce-4e064beb03b6"
      },
      "execution_count": 13,
      "outputs": [
        {
          "output_type": "execute_result",
          "data": {
            "text/plain": [
              "array([[[5., 0., 0., 0.],\n",
              "        [0., 5., 0., 0.],\n",
              "        [0., 0., 5., 0.],\n",
              "        [0., 0., 0., 5.]],\n",
              "\n",
              "       [[5., 0., 0., 0.],\n",
              "        [0., 5., 0., 0.],\n",
              "        [0., 0., 5., 0.],\n",
              "        [0., 0., 0., 5.]],\n",
              "\n",
              "       [[5., 0., 0., 0.],\n",
              "        [0., 5., 0., 0.],\n",
              "        [0., 0., 5., 0.],\n",
              "        [0., 0., 0., 5.]]])"
            ]
          },
          "metadata": {},
          "execution_count": 13
        }
      ]
    },
    {
      "cell_type": "code",
      "source": [
        "pi = np.ones(kelas)/kelas\n",
        "for i in range(epoch):\n",
        "  ## E STEP\n",
        "  for _ in range(kelas):\n",
        "    ric[:,_] = pi[_]*multivariates_normal(arrayData.T,2,miu[:,_].reshape(-1,1),var[_])\n",
        "  for _ in range(150):\n",
        "    ric[_,:] = ric[_]/np.sum(ric,axis=1)[_]\n",
        "  ## M STEP\n",
        "  mc = np.sum(ric,axis=0)\n",
        "  pi = mc/np.sum(mc)\n",
        "  for _ in range(kelas):\n",
        "    miu[:,_] = (1/mc[_]) * np.sum(arrayData*ric[:,_].reshape(len(arrayData),1),axis=0)\n",
        "    substract = arrayData - miu[:,_]\n",
        "    var[_,:,:] = (1/mc[_]) * np.dot(\n",
        "        ( ric[:,_].reshape(-1,1) * substract).T,\n",
        "        substract\n",
        "    )\n",
        "    avoidSingular = np.zeros((4,4),dtype=np.float64)\n",
        "    np.fill_diagonal(avoidSingular,0.000001)\n",
        "    var[_,:,:]  = var[_,:,:]  + avoidSingular"
      ],
      "metadata": {
        "id": "XKnNaY7esln9"
      },
      "execution_count": 17,
      "outputs": []
    },
    {
      "cell_type": "code",
      "source": [
        "pi"
      ],
      "metadata": {
        "colab": {
          "base_uri": "https://localhost:8080/"
        },
        "id": "2V7K8TWYSIPe",
        "outputId": "4fac7016-2125-41b0-d275-df000b5d6af4"
      },
      "execution_count": 18,
      "outputs": [
        {
          "output_type": "execute_result",
          "data": {
            "text/plain": [
              "array([0.3544264 , 0.31240912, 0.33316448])"
            ]
          },
          "metadata": {},
          "execution_count": 18
        }
      ]
    },
    {
      "cell_type": "code",
      "source": [
        "miu"
      ],
      "metadata": {
        "colab": {
          "base_uri": "https://localhost:8080/"
        },
        "id": "RNXdwel4OiZf",
        "outputId": "b63501e3-6a5c-4744-9055-7683cafe52db"
      },
      "execution_count": 19,
      "outputs": [
        {
          "output_type": "execute_result",
          "data": {
            "text/plain": [
              "array([[6.23235055, 6.29468648, 5.00625489],\n",
              "       [2.95458445, 2.77800287, 3.41856322],\n",
              "       [5.10362903, 4.67984306, 1.46408214],\n",
              "       [1.87555277, 1.4488656 , 0.24397088]])"
            ]
          },
          "metadata": {},
          "execution_count": 19
        }
      ]
    },
    {
      "cell_type": "code",
      "source": [
        "var"
      ],
      "metadata": {
        "colab": {
          "base_uri": "https://localhost:8080/"
        },
        "id": "vE6grrepQwPo",
        "outputId": "31b33e45-51f3-4e2c-e1e6-ed39a150f62a"
      },
      "execution_count": 20,
      "outputs": [
        {
          "output_type": "execute_result",
          "data": {
            "text/plain": [
              "array([[[0.27519098, 0.06930014, 0.22077051, 0.12621885],\n",
              "        [0.06930014, 0.06498905, 0.06353709, 0.05246888],\n",
              "        [0.22077051, 0.06353709, 0.30756994, 0.17811687],\n",
              "        [0.12621885, 0.05246888, 0.17811687, 0.15552377]],\n",
              "\n",
              "       [[0.61558289, 0.18584083, 0.72478213, 0.22539295],\n",
              "        [0.18584083, 0.14379172, 0.19091836, 0.06991773],\n",
              "        [0.72478213, 0.19091836, 1.00254464, 0.31447353],\n",
              "        [0.22539295, 0.06991773, 0.31447353, 0.10899096]],\n",
              "\n",
              "       [[0.12169761, 0.09805669, 0.01578216, 0.01035549],\n",
              "        [0.09805669, 0.14171912, 0.0113614 , 0.01124521],\n",
              "        [0.01578216, 0.0113614 , 0.0295063 , 0.00559131],\n",
              "        [0.01035549, 0.01124521, 0.00559131, 0.01126883]]])"
            ]
          },
          "metadata": {},
          "execution_count": 20
        }
      ]
    },
    {
      "cell_type": "code",
      "source": [
        "for _ in range(kelas):\n",
        "  ric[:,_] = pi[_]*multivariates_normal(arrayData.T,2,miu[:,_].reshape(-1,1),var[_])\n",
        "for _ in range(len(ric)):\n",
        "  ric[_] = ric[_]/np.sum(ric,axis=1)[_]"
      ],
      "metadata": {
        "id": "qAFGaNl_3ZCj"
      },
      "execution_count": 21,
      "outputs": []
    },
    {
      "cell_type": "code",
      "source": [
        "np.unique(np.argmax(ric,axis=1),return_counts = True)"
      ],
      "metadata": {
        "colab": {
          "base_uri": "https://localhost:8080/"
        },
        "id": "v2dtiuXw3cMP",
        "outputId": "05216930-8e09-4f64-9d98-1c39d827de7b"
      },
      "execution_count": 22,
      "outputs": [
        {
          "output_type": "execute_result",
          "data": {
            "text/plain": [
              "(array([0, 1, 2]), array([53, 47, 50]))"
            ]
          },
          "metadata": {},
          "execution_count": 22
        }
      ]
    },
    {
      "cell_type": "code",
      "source": [
        "np.argmax(ric,axis=1)"
      ],
      "metadata": {
        "colab": {
          "base_uri": "https://localhost:8080/"
        },
        "id": "ja5xTO7bW2bJ",
        "outputId": "1e6173fa-6615-40b5-9b0d-886566156138"
      },
      "execution_count": 23,
      "outputs": [
        {
          "output_type": "execute_result",
          "data": {
            "text/plain": [
              "array([2, 2, 2, 2, 2, 2, 2, 2, 2, 2, 2, 2, 2, 2, 2, 2, 2, 2, 2, 2, 2, 2,\n",
              "       2, 2, 2, 2, 2, 2, 2, 2, 2, 2, 2, 2, 2, 2, 2, 2, 2, 2, 2, 2, 2, 2,\n",
              "       2, 2, 2, 2, 2, 2, 1, 1, 1, 1, 1, 0, 1, 1, 1, 0, 1, 0, 1, 0, 1, 1,\n",
              "       0, 0, 1, 1, 0, 1, 1, 0, 1, 1, 1, 0, 0, 1, 1, 1, 1, 0, 0, 0, 1, 1,\n",
              "       1, 1, 0, 1, 1, 1, 1, 0, 1, 1, 1, 1, 0, 0, 0, 0, 0, 1, 0, 1, 1, 0,\n",
              "       0, 0, 0, 0, 0, 0, 0, 1, 1, 1, 0, 0, 1, 0, 0, 1, 0, 0, 0, 1, 1, 1,\n",
              "       0, 1, 0, 0, 0, 0, 0, 0, 0, 0, 0, 0, 0, 0, 0, 0, 0, 0])"
            ]
          },
          "metadata": {},
          "execution_count": 23
        }
      ]
    },
    {
      "cell_type": "code",
      "source": [
        "import matplotlib.pyplot as plt"
      ],
      "metadata": {
        "id": "uRTWgykwXBt9"
      },
      "execution_count": 24,
      "outputs": []
    },
    {
      "cell_type": "code",
      "source": [
        "mapping = {j:i for i,j in enumerate(data.Species.unique())}"
      ],
      "metadata": {
        "id": "XfD7HwjsXiJ_"
      },
      "execution_count": 25,
      "outputs": []
    },
    {
      "cell_type": "code",
      "source": [
        "data['spe'] = data.Species.map(mapping)"
      ],
      "metadata": {
        "id": "3ebSl2ZKGnke"
      },
      "execution_count": 28,
      "outputs": []
    },
    {
      "cell_type": "code",
      "source": [
        "plt.scatter(arrayData[:,0],arrayData[:,1],c = np.argmax(ric,axis=1))"
      ],
      "metadata": {
        "colab": {
          "base_uri": "https://localhost:8080/",
          "height": 286
        },
        "id": "GGCxw8bDXCBF",
        "outputId": "0c41ebd0-7f91-4d2a-d32d-98a5b213ad42"
      },
      "execution_count": 26,
      "outputs": [
        {
          "output_type": "execute_result",
          "data": {
            "text/plain": [
              "<matplotlib.collections.PathCollection at 0x7f467f943c10>"
            ]
          },
          "metadata": {},
          "execution_count": 26
        },
        {
          "output_type": "display_data",
          "data": {
            "text/plain": [
              "<Figure size 432x288 with 1 Axes>"
            ],
            "image/png": "[encoded data removed]"
          },
          "metadata": {
            "needs_background": "light"
          }
        }
      ]
    },
    {
      "cell_type": "code",
      "source": [
        "plt.scatter(arrayData[:,0],arrayData[:,1],c = data.spe)"
      ],
      "metadata": {
        "colab": {
          "base_uri": "https://localhost:8080/",
          "height": 286
        },
        "id": "eoOStF3IXyJa",
        "outputId": "7444b2ef-7a93-4c7b-9f87-3ed272e21a42"
      },
      "execution_count": 29,
      "outputs": [
        {
          "output_type": "execute_result",
          "data": {
            "text/plain": [
              "<matplotlib.collections.PathCollection at 0x7f467f0fe210>"
            ]
          },
          "metadata": {},
          "execution_count": 29
        },
        {
          "output_type": "display_data",
          "data": {
            "text/plain": [
              "<Figure size 432x288 with 1 Axes>"
            ],
            "image/png": "[encoded data removed]"
          },
          "metadata": {
            "needs_background": "light"
          }
        }
      ]
    }
  ]
}