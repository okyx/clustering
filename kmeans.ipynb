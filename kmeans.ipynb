{
 "cells": [
  {
   "cell_type": "code",
   "execution_count": 1,
   "metadata": {},
   "outputs": [
    {
     "data": {
      "text/html": [
       "<div>\n",
       "<style scoped>\n",
       "    .dataframe tbody tr th:only-of-type {\n",
       "        vertical-align: middle;\n",
       "    }\n",
       "\n",
       "    .dataframe tbody tr th {\n",
       "        vertical-align: top;\n",
       "    }\n",
       "\n",
       "    .dataframe thead th {\n",
       "        text-align: right;\n",
       "    }\n",
       "</style>\n",
       "<table border=\"1\" class=\"dataframe\">\n",
       "  <thead>\n",
       "    <tr style=\"text-align: right;\">\n",
       "      <th></th>\n",
       "      <th>Id</th>\n",
       "      <th>SepalLengthCm</th>\n",
       "      <th>SepalWidthCm</th>\n",
       "      <th>PetalLengthCm</th>\n",
       "      <th>PetalWidthCm</th>\n",
       "      <th>Species</th>\n",
       "    </tr>\n",
       "  </thead>\n",
       "  <tbody>\n",
       "    <tr>\n",
       "      <th>0</th>\n",
       "      <td>1</td>\n",
       "      <td>5.1</td>\n",
       "      <td>3.5</td>\n",
       "      <td>1.4</td>\n",
       "      <td>0.2</td>\n",
       "      <td>Iris-setosa</td>\n",
       "    </tr>\n",
       "    <tr>\n",
       "      <th>1</th>\n",
       "      <td>2</td>\n",
       "      <td>4.9</td>\n",
       "      <td>3.0</td>\n",
       "      <td>1.4</td>\n",
       "      <td>0.2</td>\n",
       "      <td>Iris-setosa</td>\n",
       "    </tr>\n",
       "    <tr>\n",
       "      <th>2</th>\n",
       "      <td>3</td>\n",
       "      <td>4.7</td>\n",
       "      <td>3.2</td>\n",
       "      <td>1.3</td>\n",
       "      <td>0.2</td>\n",
       "      <td>Iris-setosa</td>\n",
       "    </tr>\n",
       "    <tr>\n",
       "      <th>3</th>\n",
       "      <td>4</td>\n",
       "      <td>4.6</td>\n",
       "      <td>3.1</td>\n",
       "      <td>1.5</td>\n",
       "      <td>0.2</td>\n",
       "      <td>Iris-setosa</td>\n",
       "    </tr>\n",
       "    <tr>\n",
       "      <th>4</th>\n",
       "      <td>5</td>\n",
       "      <td>5.0</td>\n",
       "      <td>3.6</td>\n",
       "      <td>1.4</td>\n",
       "      <td>0.2</td>\n",
       "      <td>Iris-setosa</td>\n",
       "    </tr>\n",
       "  </tbody>\n",
       "</table>\n",
       "</div>"
      ],
      "text/plain": [
       "   Id  SepalLengthCm  SepalWidthCm  PetalLengthCm  PetalWidthCm      Species\n",
       "0   1            5.1           3.5            1.4           0.2  Iris-setosa\n",
       "1   2            4.9           3.0            1.4           0.2  Iris-setosa\n",
       "2   3            4.7           3.2            1.3           0.2  Iris-setosa\n",
       "3   4            4.6           3.1            1.5           0.2  Iris-setosa\n",
       "4   5            5.0           3.6            1.4           0.2  Iris-setosa"
      ]
     },
     "execution_count": 1,
     "metadata": {},
     "output_type": "execute_result"
    }
   ],
   "source": [
    "import numpy as np\n",
    "import pandas as pd\n",
    "import matplotlib.pyplot as plt\n",
    "import random\n",
    "import math\n",
    "data = pd.read_csv('iris.csv');\n",
    "data.head()"
   ]
  },
  {
   "cell_type": "code",
   "execution_count": 2,
   "metadata": {},
   "outputs": [],
   "source": [
    "maxX = max(data[\"SepalLengthCm\"]);\n",
    "minX = min(data[\"SepalLengthCm\"]);\n",
    "maxY = max(data[\"SepalWidthCm\"]);\n",
    "minY = min(data[\"SepalWidthCm\"]);\n",
    "maxZ = max(data[\"PetalLengthCm\"]);\n",
    "minZ = min(data[\"PetalLengthCm\"]);\n",
    "maxK = max(data[\"PetalWidthCm\"]);\n",
    "minK = min(data[\"PetalWidthCm\"]);\n",
    "column = [\"SepalLengthCm\",\"SepalWidthCm\",\"PetalLengthCm\",\"PetalWidthCm\"];"
   ]
  },
  {
   "cell_type": "code",
   "execution_count": 3,
   "metadata": {},
   "outputs": [],
   "source": [
    "lists = [];\n",
    "datakelaske=[];\n",
    "for i in range(0,3):\n",
    "    lists.append([random.uniform(minX,maxX),random.uniform(minY,maxY),random.uniform(minZ,maxZ),random.uniform(minK,maxK)])\n",
    "centroid = np.array(lists)\n",
    "centroidbaru = np.zeros(centroid.shape);\n",
    "    #cluster\n",
    "while 1:\n",
    "    kelas = []\n",
    "    for j in range(data.shape[0]):\n",
    "        distance = [];\n",
    "        for k in range(centroid.shape[0]):\n",
    "            sums = 0;\n",
    "            for l in range(centroid.shape[1]):\n",
    "                sums = sums + ((data[column[l]].iloc[j] - centroid[k][l])**2)\n",
    "            distance.append(math.sqrt(sums))\n",
    "        kelas.append(distance.index(min(distance)))\n",
    "    kelas = np.array(kelas)\n",
    "    \n",
    "    for k in range(centroid.shape[0]):\n",
    "        if(data.iloc[np.where(kelas==k)].count()[0]==0):\n",
    "            continue\n",
    "        for l in range(centroid.shape[1]):\n",
    "            centroidbaru[k][l] =data[column[l]].iloc[np.where(kelas==k)].sum()/data[column[l]].iloc[np.where(kelas==k)].count()\n",
    "    distancecentro = np.sqrt(np.sum(((centroid-centroidbaru)**2),1));\n",
    "    if (np.array(np.where(distancecentro<=0.05)).shape[1]==centroid.shape[0]):\n",
    "        break\n",
    "    else:\n",
    "        centroid = centroidbaru;"
   ]
  },
  {
   "cell_type": "code",
   "execution_count": 4,
   "metadata": {},
   "outputs": [
    {
     "data": {
      "text/plain": [
       "[<matplotlib.lines.Line2D at 0x25ebeb866d0>,\n",
       " <matplotlib.lines.Line2D at 0x25ebeb86700>,\n",
       " <matplotlib.lines.Line2D at 0x25ebeb86760>]"
      ]
     },
     "execution_count": 4,
     "metadata": {},
     "output_type": "execute_result"
    },
    {
     "data": {
      "image/png": "[encoded data removed]",
      "text/plain": [
       "<Figure size 432x288 with 1 Axes>"
      ]
     },
     "metadata": {
      "needs_background": "light"
     },
     "output_type": "display_data"
    }
   ],
   "source": [
    "plt.plot(data[data['Species']=='Iris-setosa']['SepalLengthCm'],data[data['Species']=='Iris-setosa']['SepalWidthCm'],'bo',data[data['Species']=='Iris-versicolor']['SepalLengthCm'],data[data['Species']=='Iris-versicolor']['SepalWidthCm'],'go',data[data['Species']=='Iris-virginica']['SepalLengthCm'],data[data['Species']=='Iris-virginica']['SepalWidthCm'],'ro')"
   ]
  },
  {
   "cell_type": "code",
   "execution_count": 5,
   "metadata": {},
   "outputs": [
    {
     "data": {
      "text/plain": [
       "[<matplotlib.lines.Line2D at 0x25ebeeb4f40>,\n",
       " <matplotlib.lines.Line2D at 0x25ebeeb4f70>,\n",
       " <matplotlib.lines.Line2D at 0x25ebeeb4fa0>]"
      ]
     },
     "execution_count": 5,
     "metadata": {},
     "output_type": "execute_result"
    },
    {
     "data": {
      "image/png": "[encoded data removed]",
      "text/plain": [
       "<Figure size 432x288 with 1 Axes>"
      ]
     },
     "metadata": {
      "needs_background": "light"
     },
     "output_type": "display_data"
    }
   ],
   "source": [
    "plt.plot(data.iloc[np.where(kelas==0)]['SepalLengthCm'],data.iloc[np.where(kelas==0)]['SepalWidthCm'],'bo',data.iloc[np.where(kelas==1)]['SepalLengthCm'],data.iloc[np.where(kelas==1)]['SepalWidthCm'],'ro',data.iloc[np.where(kelas==2)]['SepalLengthCm'],data.iloc[np.where(kelas==2)]['SepalWidthCm'],'go')"
   ]
  },
  {
   "cell_type": "code",
   "execution_count": null,
   "metadata": {},
   "outputs": [],
   "source": []
  }
 ],
 "metadata": {
  "kernelspec": {
   "display_name": "Python 3",
   "language": "python",
   "name": "python3"
  },
  "language_info": {
   "codemirror_mode": {
    "name": "ipython",
    "version": 3
   },
   "file_extension": ".py",
   "mimetype": "text/x-python",
   "name": "python",
   "nbconvert_exporter": "python",
   "pygments_lexer": "ipython3",
   "version": "3.8.5"
  }
 },
 "nbformat": 4,
 "nbformat_minor": 4
}
